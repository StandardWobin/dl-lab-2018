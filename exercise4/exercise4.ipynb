{
 "cells": [
  {
   "cell_type": "code",
   "execution_count": 1,
   "metadata": {},
   "outputs": [
    {
     "name": "stdout",
     "output_type": "stream",
     "text": [
      "lib success\n"
     ]
    }
   ],
   "source": [
    "import pickle\n",
    "import numpy as np\n",
    "import matplotlib.pyplot as plt\n",
    "from emukit.core import ContinuousParameter, ParameterSpace\n",
    "import GPy\n",
    "import math\n",
    "import time\n",
    "\n",
    "print(\"lib success\")"
   ]
  },
  {
   "cell_type": "code",
   "execution_count": 2,
   "metadata": {},
   "outputs": [
    {
     "name": "stdout",
     "output_type": "stream",
     "text": [
      "cell two success\n"
     ]
    }
   ],
   "source": [
    "from copy import deepcopy\n",
    "\n",
    "\n",
    "rf = pickle.load(open(\"./rf_surrogate_cnn.pkl\", \"rb\"))\n",
    "cost_rf = pickle.load(open(\"./rf_cost_surrogate_cnn.pkl\", \"rb\"))\n",
    "\n",
    "def objective_function(x, epoch=40):\n",
    "    \"\"\"\n",
    "    Function wrapper to approximate the validation error after N epochs of the hyperparameter configurations\n",
    "    x by the prediction of a surrogate regression model, which was trained on the validation error of \n",
    "    randomly sampled hyperparameter configurations.\n",
    "    \"\"\"\n",
    "    \n",
    "    # normalize all hyperparameter to be in [0, 1]\n",
    "    x_norm = deepcopy(x)\n",
    "    x_norm[0] = (x[0] - (-6)) / (0 - (-6))\n",
    "    x_norm[1] = (x[1] - 32) / (512 - 32)\n",
    "    x_norm[2] = (x[2] - 4) / (10 - 4)\n",
    "    x_norm[3] = (x[3] - 4) / (10 - 4)\n",
    "    x_norm[4] = (x[4] - 4) / (10 - 4)\n",
    "    \n",
    "\n",
    "    x_norm = np.append(x_norm, epoch)\n",
    "    y = rf.predict(x_norm[None, :])[0]\n",
    "\n",
    "    return y\n",
    "\n",
    "def runtime(x, epoch=40):\n",
    "    \"\"\"\n",
    "    Function wrapper to approximate the training time of the hyperparameter configurations x.\n",
    "    \"\"\"\n",
    "    \n",
    "    # normalize all hyperparameter to be in [0, 1]\n",
    "    x_norm = deepcopy(x)\n",
    "    x_norm[0] = (x[0] - (-6)) / (0 - (-6))\n",
    "    x_norm[1] = (x[1] - 32) / (512 - 32)\n",
    "    x_norm[2] = (x[2] - 4) / (10 - 4)\n",
    "    x_norm[3] = (x[3] - 4) / (10 - 4)\n",
    "    x_norm[4] = (x[4] - 4) / (10 - 4)\n",
    "    \n",
    "\n",
    "    x_norm = np.append(x_norm, epoch)\n",
    "    y = cost_rf.predict(x_norm[None, :])[0]\n",
    "\n",
    "    return y\n",
    "\n",
    "print(\"cell two success\")"
   ]
  },
  {
   "cell_type": "markdown",
   "metadata": {},
   "source": [
    "# Bayesian optimization"
   ]
  },
  {
   "cell_type": "code",
   "execution_count": 3,
   "metadata": {
    "scrolled": false
   },
   "outputs": [
    {
     "name": "stdout",
     "output_type": "stream",
     "text": [
      "append all ok girl\n"
     ]
    }
   ],
   "source": [
    "\n",
    "list_params = []\n",
    "list_params.append(ContinuousParameter(\"learning_rate\",-6, -1))\n",
    "list_params.append(ContinuousParameter(\"batch_size\",32, 512))\n",
    "list_params.append(ContinuousParameter(\"n_filters_1\", 4, 10))\n",
    "list_params.append(ContinuousParameter(\"n_filters_2\", 4, 10))\n",
    "list_params.append(ContinuousParameter(\"n_filters_3\", 4, 10))\n",
    "\n",
    "space = ParameterSpace(list_params)\n",
    "\n",
    "print(\"append all ok girl\")"
   ]
  },
  {
   "cell_type": "markdown",
   "metadata": {},
   "source": [
    "## Initial Design"
   ]
  },
  {
   "cell_type": "code",
   "execution_count": 4,
   "metadata": {
    "scrolled": true
   },
   "outputs": [
    {
     "name": "stdout",
     "output_type": "stream",
     "text": [
      "[[ -5.85853389 203.11703367   8.16146479   6.29794738   7.37673112]\n",
      " [ -2.30278075  76.143108     6.52145146   5.4243798    8.52719576]]\n"
     ]
    }
   ],
   "source": [
    "from emukit.experimental_design.model_free.random_design import RandomDesign\n",
    "from emukit.core import ParameterSpace, ContinuousParameter\n",
    "\n",
    "n_init = 2\n",
    "\n",
    "\n",
    "# TODO: draw n_init configurations randomly \n",
    "design = RandomDesign(space)\n",
    "X_init = design.get_samples(n_init)\n",
    "Y_init = []\n",
    "\n",
    "for config in X_init: \n",
    "    Y_init.append([objective_function(config)])\n",
    "    \n",
    "# TODO: evaluate all configurations and store them \n",
    "X_init = np.array(X_init)\n",
    "Y_init = np.array(Y_init)\n",
    "\n",
    "\n",
    "print(X_init)"
   ]
  },
  {
   "cell_type": "markdown",
   "metadata": {},
   "source": [
    "## BO components"
   ]
  },
  {
   "cell_type": "code",
   "execution_count": 5,
   "metadata": {},
   "outputs": [],
   "source": [
    "from emukit.model_wrappers.gpy_model_wrappers import GPyModelWrapper\n",
    "from emukit.bayesian_optimization.acquisitions import ExpectedImprovement\n",
    "from emukit.core.optimization import AcquisitionOptimizer\n",
    "\n",
    "kernel = GPy.kern.Matern52(X_init.shape[1], ARD=True)\n",
    "gp = GPyModelWrapper(GPy.models.GPRegression(X_init, Y_init, kernel, noise_var=1e-10))\n",
    "ei = ExpectedImprovement(gp)\n",
    "optimizer = AcquisitionOptimizer(space)"
   ]
  },
  {
   "cell_type": "markdown",
   "metadata": {},
   "source": [
    "## BO loop"
   ]
  },
  {
   "cell_type": "code",
   "execution_count": 6,
   "metadata": {},
   "outputs": [
    {
     "data": {
      "image/png": "[encoded data removed]",
      "text/plain": [
       "<Figure size 432x288 with 1 Axes>"
      ]
     },
     "metadata": {
      "needs_background": "light"
     },
     "output_type": "display_data"
    }
   ],
   "source": [
    "n_iters = 20\n",
    "\n",
    "incumbent_trajectory = []  # keeps track of the incumbent after each iterations\n",
    "runtime_trajectory = []   # saves the runtime after each interation\n",
    "t = 0\n",
    "current_incumbent = 1\n",
    "\n",
    "zero_time = time.time()\n",
    "for i in range(n_iters):\n",
    "    \n",
    "    # TODO: optimize acquisition function   \n",
    "    optimizer = AcquisitionOptimizer(space)\n",
    "    x_new, _ = optimizer.optimize(ei)    \n",
    "    \n",
    "    # TODO: evaluate objective function and estimate the training time\n",
    "    y_new = objective_function(x_new[0])   \n",
    "    \n",
    "    # TODO: augment data with new observations and update the model\n",
    "    X = np.append(X_init, x_new, axis=0)\n",
    "    Y = np.append(Y_init, y_new)    \n",
    "    \n",
    "    # TODO: bookkeeping of the incumbent and the runtime\n",
    "    runtime_trajectory.append(time.time() - zero_time )  \n",
    "    \n",
    "    if Y.min() < current_incumbent:\n",
    "        current_incumbent = Y.min()        \n",
    "    incumbent_trajectory.append(current_incumbent)\n",
    "   \n",
    "# PLOT STUFF\n",
    "plt.plot(runtime_trajectory, incumbent_trajectory)\n",
    "plt.xlabel(\"estimated runtime (seconds)\")\n",
    "plt.ylabel(\"validation error\")\n",
    "plt.grid(True)\n",
    "plt.title(\"Bayesian Optimization\")\n",
    "plt.show()\n"
   ]
  },
  {
   "cell_type": "markdown",
   "metadata": {},
   "source": [
    "# Hyperband"
   ]
  },
  {
   "cell_type": "code",
   "execution_count": 7,
   "metadata": {},
   "outputs": [
    {
     "name": "stdout",
     "output_type": "stream",
     "text": [
      "HB check\n"
     ]
    }
   ],
   "source": [
    "def get_random_hyperparameter_configuration():\n",
    "    rd = RandomDesign(space)\n",
    "    return RandomDesign.get_samples(rd, 1)\n",
    "print(\"HB check\")"
   ]
  },
  {
   "cell_type": "code",
   "execution_count": 8,
   "metadata": {},
   "outputs": [],
   "source": [
    "def successive_halving(n, r, s):\n",
    "    \"\"\"\n",
    "    Run one iteration of successive halving\n",
    "    :param n: initial number of hyperparameter configurations\n",
    "    :param r: initial number of iterations \n",
    "    :param s: defines the tradeoff between r and n\n",
    "    \"\"\"\n",
    "    global best_loss\n",
    "    global best_config   \n",
    "    T = [ get_random_hyperparameter_configuration()[0] for i in range(n) ] \n",
    "    for i in range(s+1):\n",
    "        val_losses = []\n",
    "        # TODO compute the number of configs n_i and epochs r_i\n",
    "        n_i = n*eta**(-i)\n",
    "        r_i = r*eta**(i)\n",
    "        print(\"conf numb\")\n",
    "        print(n_i)\n",
    "        print(r_i)\n",
    "        \n",
    "        # TODO run all n_i configuration for r_i epochs \n",
    "        val_losses = [ objective_function(get_random_hyperparameter_configuration()[0], epoch=r_i) for t in T ]\n",
    "\n",
    "        # PLOT    \n",
    "        plt.scatter(np.ones(len(val_losses)) * r_i, val_losses)\n",
    "        \n",
    "        T = [ T[i] for i in np.argsort(val_losses)[0:int( n_i/eta )] ]\n",
    "        # TODO: keep only the best n_i/eta configurations\n",
    "        \n",
    "        if (np.min(val_losses) < best_loss):\n",
    "            best_loss = np.min(val_losses)\n",
    "    \n",
    "        print(\"Best loss: \", best_loss)\n",
    "        plt.scatter(np.ones(len(val_losses)) * r_i, val_losses)\n",
    "        "
   ]
  },
  {
   "cell_type": "code",
   "execution_count": 9,
   "metadata": {},
   "outputs": [
    {
     "name": "stdout",
     "output_type": "stream",
     "text": [
      "3\n",
      "conf numb\n",
      "27\n",
      "1.4814814814814814\n",
      "Best loss:  0.42339497665689485\n",
      "conf numb\n",
      "9.0\n",
      "4.444444444444445\n",
      "Best loss:  0.25373606243399\n",
      "conf numb\n",
      "3.0\n",
      "13.333333333333332\n",
      "Best loss:  0.25373606243399\n",
      "conf numb\n",
      "1.0\n",
      "40.0\n",
      "Best loss:  0.16900617422475034\n"
     ]
    },
    {
     "data": {
      "image/png": "[encoded data removed]",
      "text/plain": [
       "<Figure size 432x288 with 1 Axes>"
      ]
     },
     "metadata": {
      "needs_background": "light"
     },
     "output_type": "display_data"
    },
    {
     "name": "stdout",
     "output_type": "stream",
     "text": [
      "conf numb\n",
      "9\n",
      "4.444444444444445\n",
      "Best loss:  0.16900617422475034\n",
      "conf numb\n",
      "3.0\n",
      "13.333333333333334\n",
      "Best loss:  0.16900617422475034\n",
      "conf numb\n",
      "1.0\n",
      "40.0\n",
      "Best loss:  0.16900617422475034\n"
     ]
    },
    {
     "data": {
      "image/png": "[encoded data removed]",
      "text/plain": [
       "<Figure size 432x288 with 1 Axes>"
      ]
     },
     "metadata": {
      "needs_background": "light"
     },
     "output_type": "display_data"
    },
    {
     "name": "stdout",
     "output_type": "stream",
     "text": [
      "conf numb\n",
      "6\n",
      "13.333333333333332\n",
      "Best loss:  0.16900617422475034\n",
      "conf numb\n",
      "2.0\n",
      "40.0\n",
      "Best loss:  0.16900617422475034\n"
     ]
    },
    {
     "data": {
      "image/png": "[encoded data removed]",
      "text/plain": [
       "<Figure size 432x288 with 1 Axes>"
      ]
     },
     "metadata": {
      "needs_background": "light"
     },
     "output_type": "display_data"
    },
    {
     "name": "stdout",
     "output_type": "stream",
     "text": [
      "conf numb\n",
      "4\n",
      "40\n",
      "Best loss:  0.16900617422475034\n"
     ]
    },
    {
     "data": {
      "image/png": "[encoded data removed]",
      "text/plain": [
       "<Figure size 432x288 with 1 Axes>"
      ]
     },
     "metadata": {
      "needs_background": "light"
     },
     "output_type": "display_data"
    }
   ],
   "source": [
    "best_loss = 1\n",
    "best_config = []\n",
    "\n",
    "max_iter = 40  # maximum iterations/epochs per configuration\n",
    "eta = 3 # defines downsampling rate (default=3)\n",
    "s_max = int(np.log(max_iter)/np.log(eta))  # number of unique executions of Successive Halving (minus one)\n",
    "B = (s_max+1)*max_iter  # total number of iterations (without reuse) per execution of Succesive Halving (n,r)\n",
    "print(s_max)\n",
    "for s in reversed(range(s_max+1)):\n",
    "    n = int(np.ceil(int(B/max_iter/(s+1))*eta**s)) \n",
    "    r = max_iter*eta**(-s)\n",
    "    # TODO: compute initial number of configurations and initial number to run configurations for\n",
    "    \n",
    "    # run successive halving\n",
    "    successive_halving(n, r, s)\n",
    "    plt.xlabel(\"epochs\")\n",
    "    plt.ylabel(\"validation error\")\n",
    "    plt.grid(True)\n",
    "    plt.title(\"successive halving\")\n",
    "    plt.xlim(0, 41)\n",
    "    plt.show()"
   ]
  },
  {
   "cell_type": "markdown",
   "metadata": {},
   "source": [
    "# Combining Bayesian optimization with Hyperband"
   ]
  },
  {
   "cell_type": "code",
   "execution_count": 10,
   "metadata": {},
   "outputs": [],
   "source": [
    "# did not do"
   ]
  }
 ],
 "metadata": {
  "kernelspec": {
   "display_name": "ex4",
   "language": "python",
   "name": "ex4"
  },
  "language_info": {
   "codemirror_mode": {
    "name": "ipython",
    "version": 3
   },
   "file_extension": ".py",
   "mimetype": "text/x-python",
   "name": "python",
   "nbconvert_exporter": "python",
   "pygments_lexer": "ipython3",
   "version": "3.5.2"
  }
 },
 "nbformat": 4,
 "nbformat_minor": 2
}
